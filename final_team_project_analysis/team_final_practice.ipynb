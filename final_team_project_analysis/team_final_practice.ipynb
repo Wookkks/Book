{
 "cells": [
  {
   "cell_type": "code",
   "execution_count": 3,
   "id": "6c70d6e8",
   "metadata": {
    "id": "6c70d6e8",
    "outputId": "c37c932f-e910-4eb3-9694-d343a91fe0f3"
   },
   "outputs": [],
   "source": [
    "pip install openpyxl"
   ]
  },
  {
   "cell_type": "code",
   "execution_count": 1,
   "id": "727eaf89",
   "metadata": {
    "id": "727eaf89"
   },
   "outputs": [],
   "source": [
    "import pandas as pd\n",
    "import numpy as np\n",
    "import matplotlib.pyplot as plt\n",
    "import seaborn as sns\n",
    "import warnings\n",
    "warnings.simplefilter(\"ignore\")"
   ]
  },
  {
   "cell_type": "markdown",
   "id": "5912f1f8",
   "metadata": {
    "id": "5912f1f8"
   },
   "source": [
    "# 데이터 확인"
   ]
  },
  {
   "cell_type": "code",
   "execution_count": 2,
   "id": "bbd15816",
   "metadata": {
    "id": "c8118fe0",
    "outputId": "b15d1bab-dd26-4395-932f-f0284e06c9be",
    "scrolled": true
   },
   "outputs": [
    {
     "data": {
      "text/html": [
       "<div>\n",
       "<style scoped>\n",
       "    .dataframe tbody tr th:only-of-type {\n",
       "        vertical-align: middle;\n",
       "    }\n",
       "\n",
       "    .dataframe tbody tr th {\n",
       "        vertical-align: top;\n",
       "    }\n",
       "\n",
       "    .dataframe thead th {\n",
       "        text-align: right;\n",
       "    }\n",
       "</style>\n",
       "<table border=\"1\" class=\"dataframe\">\n",
       "  <thead>\n",
       "    <tr style=\"text-align: right;\">\n",
       "      <th></th>\n",
       "      <th>순위</th>\n",
       "      <th>상품코드</th>\n",
       "      <th>판매상품ID</th>\n",
       "      <th>상품명</th>\n",
       "      <th>정가</th>\n",
       "      <th>판매가</th>\n",
       "      <th>할인율</th>\n",
       "      <th>적립율</th>\n",
       "      <th>적립예정포인트</th>\n",
       "      <th>인물</th>\n",
       "      <th>출판사</th>\n",
       "      <th>발행(출시)일자</th>\n",
       "      <th>분야</th>\n",
       "    </tr>\n",
       "  </thead>\n",
       "  <tbody>\n",
       "    <tr>\n",
       "      <th>0</th>\n",
       "      <td>1</td>\n",
       "      <td>9788995501443</td>\n",
       "      <td>S000001573833</td>\n",
       "      <td>꾸뻬씨의 행복여행</td>\n",
       "      <td>15,000</td>\n",
       "      <td>13,500</td>\n",
       "      <td>10%</td>\n",
       "      <td>5%</td>\n",
       "      <td>750</td>\n",
       "      <td>프랑수아 를로르</td>\n",
       "      <td>오래된미래</td>\n",
       "      <td>20040728</td>\n",
       "      <td>소설</td>\n",
       "    </tr>\n",
       "    <tr>\n",
       "      <th>1</th>\n",
       "      <td>2</td>\n",
       "      <td>9788937487927</td>\n",
       "      <td>S000000621196</td>\n",
       "      <td>색채가 없는 다자키 쓰쿠루와 그가 순례를 떠난 해</td>\n",
       "      <td>14,800</td>\n",
       "      <td>13,320</td>\n",
       "      <td>10%</td>\n",
       "      <td>5%</td>\n",
       "      <td>740</td>\n",
       "      <td>무라카미 하루키</td>\n",
       "      <td>민음사</td>\n",
       "      <td>20130701</td>\n",
       "      <td>소설</td>\n",
       "    </tr>\n",
       "    <tr>\n",
       "      <th>2</th>\n",
       "      <td>3</td>\n",
       "      <td>9788965744023</td>\n",
       "      <td>S000001025857</td>\n",
       "      <td>정글만리 1</td>\n",
       "      <td>16,500</td>\n",
       "      <td>14,850</td>\n",
       "      <td>10%</td>\n",
       "      <td>5%</td>\n",
       "      <td>820</td>\n",
       "      <td>조정래</td>\n",
       "      <td>해냄출판사</td>\n",
       "      <td>20130701</td>\n",
       "      <td>소설</td>\n",
       "    </tr>\n",
       "    <tr>\n",
       "      <th>3</th>\n",
       "      <td>4</td>\n",
       "      <td>9788972756194</td>\n",
       "      <td>S000001123530</td>\n",
       "      <td>나미야 잡화점의 기적</td>\n",
       "      <td>14,800</td>\n",
       "      <td>13,320</td>\n",
       "      <td>10%</td>\n",
       "      <td>5%</td>\n",
       "      <td>740</td>\n",
       "      <td>히가시노 게이고</td>\n",
       "      <td>현대문학</td>\n",
       "      <td>20121219</td>\n",
       "      <td>소설</td>\n",
       "    </tr>\n",
       "    <tr>\n",
       "      <th>4</th>\n",
       "      <td>5</td>\n",
       "      <td>9788965701200</td>\n",
       "      <td>S000001024416</td>\n",
       "      <td>김미경의 드림 온(Dream On)</td>\n",
       "      <td>7,500</td>\n",
       "      <td>6,750</td>\n",
       "      <td>10%</td>\n",
       "      <td>5%</td>\n",
       "      <td>370</td>\n",
       "      <td>김미경</td>\n",
       "      <td>쌤앤파커스</td>\n",
       "      <td>20130111</td>\n",
       "      <td>자기계발</td>\n",
       "    </tr>\n",
       "    <tr>\n",
       "      <th>...</th>\n",
       "      <td>...</td>\n",
       "      <td>...</td>\n",
       "      <td>...</td>\n",
       "      <td>...</td>\n",
       "      <td>...</td>\n",
       "      <td>...</td>\n",
       "      <td>...</td>\n",
       "      <td>...</td>\n",
       "      <td>...</td>\n",
       "      <td>...</td>\n",
       "      <td>...</td>\n",
       "      <td>...</td>\n",
       "      <td>...</td>\n",
       "    </tr>\n",
       "    <tr>\n",
       "      <th>174</th>\n",
       "      <td>175</td>\n",
       "      <td>9788959942589</td>\n",
       "      <td>S000000914107</td>\n",
       "      <td>영어패턴 500 플러스</td>\n",
       "      <td>15,000</td>\n",
       "      <td>13,500</td>\n",
       "      <td>10%</td>\n",
       "      <td>5%</td>\n",
       "      <td>750</td>\n",
       "      <td>이광수 외</td>\n",
       "      <td>넥서스</td>\n",
       "      <td>20120425</td>\n",
       "      <td>외국어</td>\n",
       "    </tr>\n",
       "    <tr>\n",
       "      <th>175</th>\n",
       "      <td>176</td>\n",
       "      <td>9788982814471</td>\n",
       "      <td>S000001279906</td>\n",
       "      <td>연금술사</td>\n",
       "      <td>12,000</td>\n",
       "      <td>10,800</td>\n",
       "      <td>10%</td>\n",
       "      <td>5%</td>\n",
       "      <td>600</td>\n",
       "      <td>파울로 코엘료</td>\n",
       "      <td>문학동네</td>\n",
       "      <td>20181205</td>\n",
       "      <td>소설</td>\n",
       "    </tr>\n",
       "    <tr>\n",
       "      <th>176</th>\n",
       "      <td>177</td>\n",
       "      <td>9788968222610</td>\n",
       "      <td>S000001053850</td>\n",
       "      <td>요츠바랑 12</td>\n",
       "      <td>5,200</td>\n",
       "      <td>4,680</td>\n",
       "      <td>10%</td>\n",
       "      <td>5%</td>\n",
       "      <td>260</td>\n",
       "      <td>아즈마 키요히코</td>\n",
       "      <td>대원씨아이</td>\n",
       "      <td>20130425</td>\n",
       "      <td>만화</td>\n",
       "    </tr>\n",
       "    <tr>\n",
       "      <th>177</th>\n",
       "      <td>178</td>\n",
       "      <td>9788934962984</td>\n",
       "      <td>S000000596699</td>\n",
       "      <td>어제까지의 세계</td>\n",
       "      <td>29,000</td>\n",
       "      <td>26,100</td>\n",
       "      <td>10%</td>\n",
       "      <td>5%</td>\n",
       "      <td>1,450</td>\n",
       "      <td>재레드 다이아몬드</td>\n",
       "      <td>김영사</td>\n",
       "      <td>20130509</td>\n",
       "      <td>역사/문화</td>\n",
       "    </tr>\n",
       "    <tr>\n",
       "      <th>178</th>\n",
       "      <td>179</td>\n",
       "      <td>9788964231555</td>\n",
       "      <td>S000001001143</td>\n",
       "      <td>3분 고전 2</td>\n",
       "      <td>14,000</td>\n",
       "      <td>12,600</td>\n",
       "      <td>10%</td>\n",
       "      <td>5%</td>\n",
       "      <td>700</td>\n",
       "      <td>박재희</td>\n",
       "      <td>작은씨앗</td>\n",
       "      <td>20130617</td>\n",
       "      <td>자기계발</td>\n",
       "    </tr>\n",
       "  </tbody>\n",
       "</table>\n",
       "<p>179 rows × 13 columns</p>\n",
       "</div>"
      ],
      "text/plain": [
       "      순위           상품코드         판매상품ID                          상품명      정가  \\\n",
       "0      1  9788995501443  S000001573833                    꾸뻬씨의 행복여행  15,000   \n",
       "1      2  9788937487927  S000000621196  색채가 없는 다자키 쓰쿠루와 그가 순례를 떠난 해  14,800   \n",
       "2      3  9788965744023  S000001025857                       정글만리 1  16,500   \n",
       "3      4  9788972756194  S000001123530                  나미야 잡화점의 기적  14,800   \n",
       "4      5  9788965701200  S000001024416          김미경의 드림 온(Dream On)   7,500   \n",
       "..   ...            ...            ...                          ...     ...   \n",
       "174  175  9788959942589  S000000914107                 영어패턴 500 플러스  15,000   \n",
       "175  176  9788982814471  S000001279906                         연금술사  12,000   \n",
       "176  177  9788968222610  S000001053850                      요츠바랑 12   5,200   \n",
       "177  178  9788934962984  S000000596699                     어제까지의 세계  29,000   \n",
       "178  179  9788964231555  S000001001143                      3분 고전 2  14,000   \n",
       "\n",
       "        판매가  할인율 적립율 적립예정포인트         인물    출판사  발행(출시)일자     분야  \n",
       "0    13,500  10%  5%     750   프랑수아 를로르  오래된미래  20040728     소설  \n",
       "1    13,320  10%  5%     740   무라카미 하루키    민음사  20130701     소설  \n",
       "2    14,850  10%  5%     820        조정래  해냄출판사  20130701     소설  \n",
       "3    13,320  10%  5%     740   히가시노 게이고   현대문학  20121219     소설  \n",
       "4     6,750  10%  5%     370        김미경  쌤앤파커스  20130111   자기계발  \n",
       "..      ...  ...  ..     ...        ...    ...       ...    ...  \n",
       "174  13,500  10%  5%     750      이광수 외    넥서스  20120425    외국어  \n",
       "175  10,800  10%  5%     600    파울로 코엘료   문학동네  20181205     소설  \n",
       "176   4,680  10%  5%     260   아즈마 키요히코  대원씨아이  20130425     만화  \n",
       "177  26,100  10%  5%   1,450  재레드 다이아몬드    김영사  20130509  역사/문화  \n",
       "178  12,600  10%  5%     700        박재희   작은씨앗  20130617   자기계발  \n",
       "\n",
       "[179 rows x 13 columns]"
      ]
     },
     "execution_count": 2,
     "metadata": {},
     "output_type": "execute_result"
    }
   ],
   "source": [
    "book_list = []\n",
    "for year in range(2022, 2012, -1):\n",
    "    name = f'{year}_best.xlsx'\n",
    "    book = pd.read_excel(name)\n",
    "    book_list.append(book)\n",
    "book_list[9]"
   ]
  },
  {
   "cell_type": "code",
   "execution_count": 3,
   "id": "a17693c5",
   "metadata": {
    "id": "c8118fe0",
    "outputId": "b15d1bab-dd26-4395-932f-f0284e06c9be"
   },
   "outputs": [
    {
     "data": {
      "text/html": [
       "<div>\n",
       "<style scoped>\n",
       "    .dataframe tbody tr th:only-of-type {\n",
       "        vertical-align: middle;\n",
       "    }\n",
       "\n",
       "    .dataframe tbody tr th {\n",
       "        vertical-align: top;\n",
       "    }\n",
       "\n",
       "    .dataframe thead th {\n",
       "        text-align: right;\n",
       "    }\n",
       "</style>\n",
       "<table border=\"1\" class=\"dataframe\">\n",
       "  <thead>\n",
       "    <tr style=\"text-align: right;\">\n",
       "      <th></th>\n",
       "      <th>순위</th>\n",
       "      <th>상품코드</th>\n",
       "      <th>판매상품ID</th>\n",
       "      <th>상품명</th>\n",
       "      <th>정가</th>\n",
       "      <th>판매가</th>\n",
       "      <th>할인율</th>\n",
       "      <th>적립율</th>\n",
       "      <th>적립예정포인트</th>\n",
       "      <th>인물</th>\n",
       "      <th>출판사</th>\n",
       "      <th>발행(출시)일자</th>\n",
       "      <th>분야</th>\n",
       "    </tr>\n",
       "  </thead>\n",
       "  <tbody>\n",
       "    <tr>\n",
       "      <th>194</th>\n",
       "      <td>195</td>\n",
       "      <td>9791191347975</td>\n",
       "      <td>S000061451366</td>\n",
       "      <td>우리는 어디서 살아야 하는가</td>\n",
       "      <td>18,000</td>\n",
       "      <td>16,200</td>\n",
       "      <td>10%</td>\n",
       "      <td>5%</td>\n",
       "      <td>900</td>\n",
       "      <td>김시덕</td>\n",
       "      <td>포레스트북스</td>\n",
       "      <td>20220720</td>\n",
       "      <td>경제/경영</td>\n",
       "    </tr>\n",
       "    <tr>\n",
       "      <th>0</th>\n",
       "      <td>1</td>\n",
       "      <td>9791165341909</td>\n",
       "      <td>S000001835614</td>\n",
       "      <td>달러구트 꿈 백화점</td>\n",
       "      <td>13,800</td>\n",
       "      <td>12,420</td>\n",
       "      <td>10%</td>\n",
       "      <td>5%</td>\n",
       "      <td>690</td>\n",
       "      <td>이미예</td>\n",
       "      <td>팩토리나인</td>\n",
       "      <td>20200708</td>\n",
       "      <td>소설</td>\n",
       "    </tr>\n",
       "  </tbody>\n",
       "</table>\n",
       "</div>"
      ],
      "text/plain": [
       "      순위           상품코드         판매상품ID              상품명      정가     판매가  할인율  \\\n",
       "194  195  9791191347975  S000061451366  우리는 어디서 살아야 하는가  18,000  16,200  10%   \n",
       "0      1  9791165341909  S000001835614       달러구트 꿈 백화점  13,800  12,420  10%   \n",
       "\n",
       "    적립율 적립예정포인트   인물     출판사  발행(출시)일자     분야  \n",
       "194  5%     900  김시덕  포레스트북스  20220720  경제/경영  \n",
       "0    5%     690  이미예   팩토리나인  20200708     소설  "
      ]
     },
     "execution_count": 3,
     "metadata": {},
     "output_type": "execute_result"
    }
   ],
   "source": [
    "#데이터 합치기 (중복되는 header들 삭제 안했는데 자동으로 삭제됨)\n",
    "book = pd.concat(book_list)\n",
    "book[194:196]"
   ]
  },
  {
   "cell_type": "code",
   "execution_count": 4,
   "id": "fd926f56",
   "metadata": {
    "id": "fd926f56",
    "outputId": "108a735c-161f-4a00-bdb0-5422895b4af9",
    "scrolled": true
   },
   "outputs": [
    {
     "data": {
      "text/plain": [
       "1837"
      ]
     },
     "execution_count": 4,
     "metadata": {},
     "output_type": "execute_result"
    }
   ],
   "source": [
    "#갯수\n",
    "len(book)"
   ]
  },
  {
   "cell_type": "code",
   "execution_count": 5,
   "id": "6963193c",
   "metadata": {
    "id": "6963193c",
    "outputId": "a50e0e1d-65a8-4765-f09e-e87aab823bfd"
   },
   "outputs": [
    {
     "name": "stdout",
     "output_type": "stream",
     "text": [
      "<class 'pandas.core.frame.DataFrame'>\n",
      "Int64Index: 1837 entries, 0 to 178\n",
      "Data columns (total 13 columns):\n",
      " #   Column    Non-Null Count  Dtype \n",
      "---  ------    --------------  ----- \n",
      " 0   순위        1837 non-null   int64 \n",
      " 1   상품코드      1837 non-null   int64 \n",
      " 2   판매상품ID    1837 non-null   object\n",
      " 3   상품명       1837 non-null   object\n",
      " 4   정가        1837 non-null   object\n",
      " 5   판매가       1837 non-null   object\n",
      " 6   할인율       1837 non-null   object\n",
      " 7   적립율       1837 non-null   object\n",
      " 8   적립예정포인트   1837 non-null   object\n",
      " 9   인물        1837 non-null   object\n",
      " 10  출판사       1837 non-null   object\n",
      " 11  발행(출시)일자  1837 non-null   int64 \n",
      " 12  분야        1837 non-null   object\n",
      "dtypes: int64(3), object(10)\n",
      "memory usage: 200.9+ KB\n"
     ]
    }
   ],
   "source": [
    "book.info()"
   ]
  },
  {
   "cell_type": "markdown",
   "id": "a4f4eadc",
   "metadata": {
    "id": "a4f4eadc"
   },
   "source": [
    "# 전처리"
   ]
  },
  {
   "cell_type": "markdown",
   "id": "0a2ab615",
   "metadata": {
    "id": "0a2ab615"
   },
   "source": [
    "## 결측치 확인"
   ]
  },
  {
   "cell_type": "code",
   "execution_count": 6,
   "id": "fc32a6a3",
   "metadata": {
    "id": "fc32a6a3",
    "outputId": "c1115f56-3338-47a2-f35b-80a7448d0a10",
    "scrolled": true
   },
   "outputs": [
    {
     "data": {
      "text/plain": [
       "순위          0\n",
       "상품코드        0\n",
       "판매상품ID      0\n",
       "상품명         0\n",
       "정가          0\n",
       "판매가         0\n",
       "할인율         0\n",
       "적립율         0\n",
       "적립예정포인트     0\n",
       "인물          0\n",
       "출판사         0\n",
       "발행(출시)일자    0\n",
       "분야          0\n",
       "dtype: int64"
      ]
     },
     "execution_count": 6,
     "metadata": {},
     "output_type": "execute_result"
    }
   ],
   "source": [
    "#결측치 여부 확인 : 없음\n",
    "book.isna().sum()"
   ]
  },
  {
   "cell_type": "markdown",
   "id": "d028450d",
   "metadata": {
    "id": "d028450d"
   },
   "source": [
    "## 전처리"
   ]
  },
  {
   "cell_type": "code",
   "execution_count": 7,
   "id": "adf4eb30",
   "metadata": {},
   "outputs": [
    {
     "data": {
      "text/html": [
       "<div>\n",
       "<style scoped>\n",
       "    .dataframe tbody tr th:only-of-type {\n",
       "        vertical-align: middle;\n",
       "    }\n",
       "\n",
       "    .dataframe tbody tr th {\n",
       "        vertical-align: top;\n",
       "    }\n",
       "\n",
       "    .dataframe thead th {\n",
       "        text-align: right;\n",
       "    }\n",
       "</style>\n",
       "<table border=\"1\" class=\"dataframe\">\n",
       "  <thead>\n",
       "    <tr style=\"text-align: right;\">\n",
       "      <th></th>\n",
       "      <th>순위</th>\n",
       "      <th>상품명</th>\n",
       "      <th>판매가</th>\n",
       "      <th>인물</th>\n",
       "      <th>출판사</th>\n",
       "      <th>발행(출시)일자</th>\n",
       "      <th>분야</th>\n",
       "    </tr>\n",
       "  </thead>\n",
       "  <tbody>\n",
       "    <tr>\n",
       "      <th>0</th>\n",
       "      <td>1</td>\n",
       "      <td>불편한 편의점(벚꽃 에디션)</td>\n",
       "      <td>12,600</td>\n",
       "      <td>김호연</td>\n",
       "      <td>나무옆의자</td>\n",
       "      <td>20210420</td>\n",
       "      <td>소설</td>\n",
       "    </tr>\n",
       "    <tr>\n",
       "      <th>1</th>\n",
       "      <td>2</td>\n",
       "      <td>하얼빈</td>\n",
       "      <td>14,400</td>\n",
       "      <td>김훈</td>\n",
       "      <td>문학동네</td>\n",
       "      <td>20220803</td>\n",
       "      <td>소설</td>\n",
       "    </tr>\n",
       "  </tbody>\n",
       "</table>\n",
       "</div>"
      ],
      "text/plain": [
       "   순위              상품명     판매가   인물    출판사  발행(출시)일자  분야\n",
       "0   1  불편한 편의점(벚꽃 에디션)  12,600  김호연  나무옆의자  20210420  소설\n",
       "1   2              하얼빈  14,400   김훈   문학동네  20220803  소설"
      ]
     },
     "execution_count": 7,
     "metadata": {},
     "output_type": "execute_result"
    }
   ],
   "source": [
    "# 칼럼삭제\n",
    "book.drop(columns=['상품코드', '판매상품ID', '정가', '할인율', '적립율', '적립예정포인트'], inplace=True)\n",
    "book[:2]"
   ]
  },
  {
   "cell_type": "code",
   "execution_count": 8,
   "id": "38d29a8e",
   "metadata": {},
   "outputs": [
    {
     "data": {
      "text/html": [
       "<div>\n",
       "<style scoped>\n",
       "    .dataframe tbody tr th:only-of-type {\n",
       "        vertical-align: middle;\n",
       "    }\n",
       "\n",
       "    .dataframe tbody tr th {\n",
       "        vertical-align: top;\n",
       "    }\n",
       "\n",
       "    .dataframe thead th {\n",
       "        text-align: right;\n",
       "    }\n",
       "</style>\n",
       "<table border=\"1\" class=\"dataframe\">\n",
       "  <thead>\n",
       "    <tr style=\"text-align: right;\">\n",
       "      <th></th>\n",
       "      <th>순위</th>\n",
       "      <th>상품명</th>\n",
       "      <th>판매가</th>\n",
       "      <th>작가</th>\n",
       "      <th>출판사</th>\n",
       "      <th>출시일자</th>\n",
       "      <th>분야</th>\n",
       "    </tr>\n",
       "  </thead>\n",
       "  <tbody>\n",
       "    <tr>\n",
       "      <th>0</th>\n",
       "      <td>1</td>\n",
       "      <td>불편한 편의점(벚꽃 에디션)</td>\n",
       "      <td>12,600</td>\n",
       "      <td>김호연</td>\n",
       "      <td>나무옆의자</td>\n",
       "      <td>20210420</td>\n",
       "      <td>소설</td>\n",
       "    </tr>\n",
       "    <tr>\n",
       "      <th>1</th>\n",
       "      <td>2</td>\n",
       "      <td>하얼빈</td>\n",
       "      <td>14,400</td>\n",
       "      <td>김훈</td>\n",
       "      <td>문학동네</td>\n",
       "      <td>20220803</td>\n",
       "      <td>소설</td>\n",
       "    </tr>\n",
       "  </tbody>\n",
       "</table>\n",
       "</div>"
      ],
      "text/plain": [
       "   순위              상품명     판매가   작가    출판사      출시일자  분야\n",
       "0   1  불편한 편의점(벚꽃 에디션)  12,600  김호연  나무옆의자  20210420  소설\n",
       "1   2              하얼빈  14,400   김훈   문학동네  20220803  소설"
      ]
     },
     "execution_count": 8,
     "metadata": {},
     "output_type": "execute_result"
    }
   ],
   "source": [
    "#칼럼명 변경\n",
    "book.rename(columns={'발행(출시)일자':'출시일자', '인물':'작가'}, inplace=True)\n",
    "book[:2]"
   ]
  },
  {
   "cell_type": "code",
   "execution_count": 9,
   "id": "09295925",
   "metadata": {},
   "outputs": [
    {
     "data": {
      "text/html": [
       "<div>\n",
       "<style scoped>\n",
       "    .dataframe tbody tr th:only-of-type {\n",
       "        vertical-align: middle;\n",
       "    }\n",
       "\n",
       "    .dataframe tbody tr th {\n",
       "        vertical-align: top;\n",
       "    }\n",
       "\n",
       "    .dataframe thead th {\n",
       "        text-align: right;\n",
       "    }\n",
       "</style>\n",
       "<table border=\"1\" class=\"dataframe\">\n",
       "  <thead>\n",
       "    <tr style=\"text-align: right;\">\n",
       "      <th></th>\n",
       "      <th>순위</th>\n",
       "      <th>상품명</th>\n",
       "      <th>판매가</th>\n",
       "      <th>작가</th>\n",
       "      <th>출판사</th>\n",
       "      <th>출시일자</th>\n",
       "      <th>분야</th>\n",
       "    </tr>\n",
       "  </thead>\n",
       "  <tbody>\n",
       "    <tr>\n",
       "      <th>0</th>\n",
       "      <td>1</td>\n",
       "      <td>불편한 편의점(벚꽃 에디션)</td>\n",
       "      <td>12,600</td>\n",
       "      <td>김호연</td>\n",
       "      <td>나무옆의자</td>\n",
       "      <td>20210420</td>\n",
       "      <td>소설</td>\n",
       "    </tr>\n",
       "    <tr>\n",
       "      <th>1</th>\n",
       "      <td>2</td>\n",
       "      <td>하얼빈</td>\n",
       "      <td>14,400</td>\n",
       "      <td>김훈</td>\n",
       "      <td>문학동네</td>\n",
       "      <td>20220803</td>\n",
       "      <td>소설</td>\n",
       "    </tr>\n",
       "    <tr>\n",
       "      <th>2</th>\n",
       "      <td>3</td>\n",
       "      <td>그리움은 아무에게나 생기지 않습니다</td>\n",
       "      <td>13,500</td>\n",
       "      <td>박근혜</td>\n",
       "      <td>가로세로연구소</td>\n",
       "      <td>20211230</td>\n",
       "      <td>정치/사회</td>\n",
       "    </tr>\n",
       "    <tr>\n",
       "      <th>3</th>\n",
       "      <td>4</td>\n",
       "      <td>작별인사</td>\n",
       "      <td>12,600</td>\n",
       "      <td>김영하</td>\n",
       "      <td>복복서가</td>\n",
       "      <td>20220502</td>\n",
       "      <td>소설</td>\n",
       "    </tr>\n",
       "    <tr>\n",
       "      <th>4</th>\n",
       "      <td>5</td>\n",
       "      <td>부자 아빠 가난한 아빠 1(20주년 특별 기념판)</td>\n",
       "      <td>15,300</td>\n",
       "      <td>로버트 기요사키</td>\n",
       "      <td>민음인</td>\n",
       "      <td>20221028</td>\n",
       "      <td>경제/경영</td>\n",
       "    </tr>\n",
       "    <tr>\n",
       "      <th>...</th>\n",
       "      <td>...</td>\n",
       "      <td>...</td>\n",
       "      <td>...</td>\n",
       "      <td>...</td>\n",
       "      <td>...</td>\n",
       "      <td>...</td>\n",
       "      <td>...</td>\n",
       "    </tr>\n",
       "    <tr>\n",
       "      <th>190</th>\n",
       "      <td>191</td>\n",
       "      <td>가짜 모범생</td>\n",
       "      <td>10,800</td>\n",
       "      <td>손현주</td>\n",
       "      <td>특별한서재</td>\n",
       "      <td>20211015</td>\n",
       "      <td>청소년</td>\n",
       "    </tr>\n",
       "    <tr>\n",
       "      <th>191</th>\n",
       "      <td>192</td>\n",
       "      <td>문재인의 위로</td>\n",
       "      <td>14,220</td>\n",
       "      <td>더휴먼 편집부</td>\n",
       "      <td>더휴먼</td>\n",
       "      <td>20220510</td>\n",
       "      <td>시/에세이</td>\n",
       "    </tr>\n",
       "    <tr>\n",
       "      <th>192</th>\n",
       "      <td>193</td>\n",
       "      <td>고민의 답</td>\n",
       "      <td>14,220</td>\n",
       "      <td>글배우</td>\n",
       "      <td>강한별</td>\n",
       "      <td>20220325</td>\n",
       "      <td>자기계발</td>\n",
       "    </tr>\n",
       "    <tr>\n",
       "      <th>193</th>\n",
       "      <td>194</td>\n",
       "      <td>마지막 몰입: 나를 넘어서는 힘</td>\n",
       "      <td>15,120</td>\n",
       "      <td>짐 퀵</td>\n",
       "      <td>비즈니스북스</td>\n",
       "      <td>20210223</td>\n",
       "      <td>자기계발</td>\n",
       "    </tr>\n",
       "    <tr>\n",
       "      <th>194</th>\n",
       "      <td>195</td>\n",
       "      <td>우리는 어디서 살아야 하는가</td>\n",
       "      <td>16,200</td>\n",
       "      <td>김시덕</td>\n",
       "      <td>포레스트북스</td>\n",
       "      <td>20220720</td>\n",
       "      <td>경제/경영</td>\n",
       "    </tr>\n",
       "  </tbody>\n",
       "</table>\n",
       "<p>195 rows × 7 columns</p>\n",
       "</div>"
      ],
      "text/plain": [
       "      순위                          상품명     판매가        작가      출판사      출시일자  \\\n",
       "0      1              불편한 편의점(벚꽃 에디션)  12,600       김호연    나무옆의자  20210420   \n",
       "1      2                          하얼빈  14,400        김훈     문학동네  20220803   \n",
       "2      3          그리움은 아무에게나 생기지 않습니다  13,500       박근혜  가로세로연구소  20211230   \n",
       "3      4                         작별인사  12,600       김영하     복복서가  20220502   \n",
       "4      5  부자 아빠 가난한 아빠 1(20주년 특별 기념판)  15,300  로버트 기요사키      민음인  20221028   \n",
       "..   ...                          ...     ...       ...      ...       ...   \n",
       "190  191                       가짜 모범생  10,800       손현주    특별한서재  20211015   \n",
       "191  192                      문재인의 위로  14,220   더휴먼 편집부      더휴먼  20220510   \n",
       "192  193                        고민의 답  14,220       글배우      강한별  20220325   \n",
       "193  194            마지막 몰입: 나를 넘어서는 힘  15,120       짐 퀵   비즈니스북스  20210223   \n",
       "194  195              우리는 어디서 살아야 하는가  16,200       김시덕   포레스트북스  20220720   \n",
       "\n",
       "        분야  \n",
       "0       소설  \n",
       "1       소설  \n",
       "2    정치/사회  \n",
       "3       소설  \n",
       "4    경제/경영  \n",
       "..     ...  \n",
       "190    청소년  \n",
       "191  시/에세이  \n",
       "192   자기계발  \n",
       "193   자기계발  \n",
       "194  경제/경영  \n",
       "\n",
       "[195 rows x 7 columns]"
      ]
     },
     "execution_count": 9,
     "metadata": {},
     "output_type": "execute_result"
    }
   ],
   "source": [
    "#리스트 전처리\n",
    "for idx in range(0, 10):\n",
    "    book_list[idx].drop(columns=['상품코드', '판매상품ID', '정가', '할인율', '적립율', '적립예정포인트'], inplace=True)\n",
    "    book_list[idx].rename(columns={'발행(출시)일자':'출시일자', '인물':'작가'}, inplace=True)\n",
    "book_list[0]    "
   ]
  },
  {
   "cell_type": "markdown",
   "id": "42edac0b",
   "metadata": {
    "id": "42edac0b"
   },
   "source": [
    "## 파일 저장"
   ]
  },
  {
   "cell_type": "code",
   "execution_count": 10,
   "id": "b9784f51",
   "metadata": {
    "id": "b9784f51",
    "outputId": "63e8d10d-aa7c-4744-e3e2-e3f0fb36aa91"
   },
   "outputs": [
    {
     "name": "stdout",
     "output_type": "stream",
     "text": [
      "저장완료\n"
     ]
    }
   ],
   "source": [
    "book.to_csv('book.csv', index=False, encoding='utf-8')\n",
    "print('저장완료')"
   ]
  },
  {
   "cell_type": "markdown",
   "id": "b193a3b4",
   "metadata": {
    "id": "b193a3b4"
   },
   "source": [
    "## 파일 읽어오기"
   ]
  },
  {
   "cell_type": "code",
   "execution_count": 11,
   "id": "eadcbf4f",
   "metadata": {
    "id": "eadcbf4f",
    "outputId": "90634a3e-3aaf-4442-ce9c-3afca274820b",
    "scrolled": true
   },
   "outputs": [
    {
     "data": {
      "text/html": [
       "<div>\n",
       "<style scoped>\n",
       "    .dataframe tbody tr th:only-of-type {\n",
       "        vertical-align: middle;\n",
       "    }\n",
       "\n",
       "    .dataframe tbody tr th {\n",
       "        vertical-align: top;\n",
       "    }\n",
       "\n",
       "    .dataframe thead th {\n",
       "        text-align: right;\n",
       "    }\n",
       "</style>\n",
       "<table border=\"1\" class=\"dataframe\">\n",
       "  <thead>\n",
       "    <tr style=\"text-align: right;\">\n",
       "      <th></th>\n",
       "      <th>순위</th>\n",
       "      <th>상품명</th>\n",
       "      <th>판매가</th>\n",
       "      <th>작가</th>\n",
       "      <th>출판사</th>\n",
       "      <th>출시일자</th>\n",
       "      <th>분야</th>\n",
       "    </tr>\n",
       "  </thead>\n",
       "  <tbody>\n",
       "    <tr>\n",
       "      <th>0</th>\n",
       "      <td>1</td>\n",
       "      <td>불편한 편의점(벚꽃 에디션)</td>\n",
       "      <td>12,600</td>\n",
       "      <td>김호연</td>\n",
       "      <td>나무옆의자</td>\n",
       "      <td>20210420</td>\n",
       "      <td>소설</td>\n",
       "    </tr>\n",
       "    <tr>\n",
       "      <th>1</th>\n",
       "      <td>2</td>\n",
       "      <td>하얼빈</td>\n",
       "      <td>14,400</td>\n",
       "      <td>김훈</td>\n",
       "      <td>문학동네</td>\n",
       "      <td>20220803</td>\n",
       "      <td>소설</td>\n",
       "    </tr>\n",
       "  </tbody>\n",
       "</table>\n",
       "</div>"
      ],
      "text/plain": [
       "   순위              상품명     판매가   작가    출판사      출시일자  분야\n",
       "0   1  불편한 편의점(벚꽃 에디션)  12,600  김호연  나무옆의자  20210420  소설\n",
       "1   2              하얼빈  14,400   김훈   문학동네  20220803  소설"
      ]
     },
     "execution_count": 11,
     "metadata": {},
     "output_type": "execute_result"
    }
   ],
   "source": [
    "book = pd.read_csv('book.csv')\n",
    "book[:2]"
   ]
  },
  {
   "cell_type": "markdown",
   "id": "bfdace14",
   "metadata": {
    "id": "bfdace14"
   },
   "source": [
    "# 데이터 분석"
   ]
  },
  {
   "cell_type": "code",
   "execution_count": 12,
   "id": "fadfc253",
   "metadata": {},
   "outputs": [
    {
     "data": {
      "text/html": [
       "<div>\n",
       "<style scoped>\n",
       "    .dataframe tbody tr th:only-of-type {\n",
       "        vertical-align: middle;\n",
       "    }\n",
       "\n",
       "    .dataframe tbody tr th {\n",
       "        vertical-align: top;\n",
       "    }\n",
       "\n",
       "    .dataframe thead th {\n",
       "        text-align: right;\n",
       "    }\n",
       "</style>\n",
       "<table border=\"1\" class=\"dataframe\">\n",
       "  <thead>\n",
       "    <tr style=\"text-align: right;\">\n",
       "      <th></th>\n",
       "      <th></th>\n",
       "      <th></th>\n",
       "      <th></th>\n",
       "      <th></th>\n",
       "      <th></th>\n",
       "      <th></th>\n",
       "      <th>0</th>\n",
       "    </tr>\n",
       "    <tr>\n",
       "      <th>순위</th>\n",
       "      <th>상품명</th>\n",
       "      <th>판매가</th>\n",
       "      <th>작가</th>\n",
       "      <th>출판사</th>\n",
       "      <th>출시일자</th>\n",
       "      <th>분야</th>\n",
       "      <th></th>\n",
       "    </tr>\n",
       "  </thead>\n",
       "  <tbody>\n",
       "    <tr>\n",
       "      <th>41</th>\n",
       "      <th>원씽(The One Thing)(리커버 특별판)</th>\n",
       "      <th>12,600</th>\n",
       "      <th>게리 켈러 외</th>\n",
       "      <th>비즈니스북스</th>\n",
       "      <th>20130830</th>\n",
       "      <th>자기계발</th>\n",
       "      <td>2</td>\n",
       "    </tr>\n",
       "    <tr>\n",
       "      <th>76</th>\n",
       "      <th>나의 하루는 4시 30분에 시작된다</th>\n",
       "      <th>13,500</th>\n",
       "      <th>김유진</th>\n",
       "      <th>토네이도</th>\n",
       "      <th>20211028</th>\n",
       "      <th>자기계발</th>\n",
       "      <td>2</td>\n",
       "    </tr>\n",
       "    <tr>\n",
       "      <th>4</th>\n",
       "      <th>설민석의 조선왕조실록</th>\n",
       "      <th>19,800</th>\n",
       "      <th>설민석</th>\n",
       "      <th>세계사</th>\n",
       "      <th>20160720</th>\n",
       "      <th>역사/문화</th>\n",
       "      <td>2</td>\n",
       "    </tr>\n",
       "    <tr>\n",
       "      <th>53</th>\n",
       "      <th>코스모스</th>\n",
       "      <th>17,910</th>\n",
       "      <th>칼 세이건</th>\n",
       "      <th>사이언스북스</th>\n",
       "      <th>20100120</th>\n",
       "      <th>과학</th>\n",
       "      <td>2</td>\n",
       "    </tr>\n",
       "    <tr>\n",
       "      <th>8</th>\n",
       "      <th>돌이킬 수 없는 약속</th>\n",
       "      <th>13,500</th>\n",
       "      <th>야쿠마루 가쿠</th>\n",
       "      <th>북플라자</th>\n",
       "      <th>20170202</th>\n",
       "      <th>소설</th>\n",
       "      <td>2</td>\n",
       "    </tr>\n",
       "    <tr>\n",
       "      <th>156</th>\n",
       "      <th>백년 허리</th>\n",
       "      <th>15,750</th>\n",
       "      <th>정선근</th>\n",
       "      <th>사이언스북스</th>\n",
       "      <th>20151231</th>\n",
       "      <th>건강</th>\n",
       "      <td>2</td>\n",
       "    </tr>\n",
       "    <tr>\n",
       "      <th>153</th>\n",
       "      <th>하루 5분 아빠 목소리</th>\n",
       "      <th>14,400</th>\n",
       "      <th>정홍</th>\n",
       "      <th>위즈덤하우스</th>\n",
       "      <th>20141120</th>\n",
       "      <th>가정/육아</th>\n",
       "      <td>2</td>\n",
       "    </tr>\n",
       "  </tbody>\n",
       "</table>\n",
       "</div>"
      ],
      "text/plain": [
       "                                                                     0\n",
       "순위  상품명                        판매가    작가      출판사    출시일자     분야      \n",
       "41  원씽(The One Thing)(리커버 특별판) 12,600 게리 켈러 외 비즈니스북스 20130830 자기계발   2\n",
       "76  나의 하루는 4시 30분에 시작된다        13,500 김유진     토네이도   20211028 자기계발   2\n",
       "4   설민석의 조선왕조실록                19,800 설민석     세계사    20160720 역사/문화  2\n",
       "53  코스모스                       17,910 칼 세이건   사이언스북스 20100120 과학     2\n",
       "8   돌이킬 수 없는 약속                13,500 야쿠마루 가쿠 북플라자   20170202 소설     2\n",
       "156 백년 허리                      15,750 정선근     사이언스북스 20151231 건강     2\n",
       "153 하루 5분 아빠 목소리               14,400 정홍      위즈덤하우스 20141120 가정/육아  2"
      ]
     },
     "execution_count": 12,
     "metadata": {},
     "output_type": "execute_result"
    }
   ],
   "source": [
    "#1. 10년 동안 베스트셀러에 2회 이상 오른 작품(작품명 기준): 7권\n",
    "best_twice = book.value_counts(ascending=False)\n",
    "best_ten_twice = best_twice[book.value_counts(ascending=False) >= 2]\n",
    "best_ten_twice.to_frame()"
   ]
  },
  {
   "cell_type": "code",
   "execution_count": 27,
   "id": "9ce912c1",
   "metadata": {
    "id": "eaceee29",
    "outputId": "dad9ab79-103e-4cb4-bda6-78bda0a9149c"
   },
   "outputs": [
    {
     "data": {
      "image/png": "[encoded data removed]",
      "text/plain": [
       "<Figure size 640x480 with 1 Axes>"
      ]
     },
     "metadata": {},
     "output_type": "display_data"
    }
   ],
   "source": [
    "#2. 베스트셀러에 2회 이상 이름을 올린 '작가' 및 '분야' top5: 총 209명 중 1~5위\n",
    "# 작가별&상품명별&분야별 갯수\n",
    "author_book_genre = book.groupby(['작가', '상품명', '분야']).size().reset_index(name='갯수')\n",
    "\n",
    "# 작가별&분야별로 상품명 갯수 많은 순서로 정렬\n",
    "best_author_genre = author_book_genre.groupby(['작가', '분야']).size().reset_index(name='작품수').sort_values(by='작품수', ascending=False)\n",
    "\n",
    "best_author_genre[:5]\n",
    "\n",
    "#시각화\n",
    "plt.rc('font', family='D2coding')\n",
    "best_author_genre[:5].plot(kind='bar', \n",
    "                            x='작가',\n",
    "                            y='작품수',\n",
    "                            rot=0,\n",
    "                            color='LightBlue'\n",
    "                           )\n",
    "plt.title('[베스트셀러 투타임 top 10]')\n",
    "#           ,fontdict={'fontsize' : 16, 'fontweight' : 'bold'})\n",
    "plt.yticks(range(2, 24, 2))\n",
    "plt.ylabel('작품수')\n",
    "plt.legend().remove()\n",
    "\n",
    "plt.savefig('베스트셀러 투타임 top 10.png', dpi=200)"
   ]
  },
  {
   "cell_type": "code",
   "execution_count": 26,
   "id": "d6cfa998",
   "metadata": {},
   "outputs": [
    {
     "data": {
      "image/png": "[encoded data removed]",
      "text/plain": [
       "<Figure size 640x480 with 1 Axes>"
      ]
     },
     "metadata": {},
     "output_type": "display_data"
    }
   ],
   "source": [
    "#3. 베스트셀러에 10회 이상 이름을 올린 작가: 4명 -작가사진 넣기\n",
    "author_best_ten = author_book_genre.groupby('작가').size().reset_index(name='작품')\n",
    "author_best_ten_seller = (author_best_ten[author_best_ten.작품 > 10]).sort_values(by='작품', ascending=False)\n",
    "author_best_ten_seller\n",
    "\n",
    "#시각화 (#2. 시각화와 그래프 모양은 동일)\n",
    "author_best_ten_seller.plot(kind='bar',\n",
    "                            x='작가',\n",
    "                            y='작품',\n",
    "                            color='LightBlue',                        \n",
    "                            rot=0)\n",
    "plt.title('[베스트셀러 10회 이상 이름을 올린 작가]')\n",
    "#           ,fontdict={'fontsize' : 16, 'fontweight' : 'bold'})\n",
    "plt.yticks(range(2, 24, 2))\n",
    "plt.ylabel('작품수')\n",
    "plt.legend().remove()\n",
    "\n",
    "plt.savefig('베스트셀러에 10회 이상 이름올린 작가.png', dpi=200)"
   ]
  },
  {
   "cell_type": "code",
   "execution_count": 15,
   "id": "4da36638",
   "metadata": {
    "id": "2cd60640",
    "outputId": "a1e81242-08c5-4b5a-9ba2-aa650fcfa3a5",
    "scrolled": false
   },
   "outputs": [
    {
     "data": {
      "image/png": "[encoded data removed]",
      "text/plain": [
       "<Figure size 640x480 with 1 Axes>"
      ]
     },
     "metadata": {},
     "output_type": "display_data"
    }
   ],
   "source": [
    "#4. 베스트셀러의 분야 top5: 소설, 시/에세이, 경영/경제, 자기계발, 인문\n",
    "best_genre = (book.분야.value_counts())[:5]\n",
    "\n",
    "#시각화\n",
    "best_genre.plot(kind='pie', \n",
    "                    title = '[최근 10년간 인기 분야]',\n",
    "                    autopct='%.f%%',\n",
    "                    colormap='tab20c',\n",
    "                    shadow=True,\n",
    "                    rot=0,\n",
    "                    )\n",
    "plt.legend().remove()\n",
    "plt.gca().axes.yaxis.set_visible(False)\n",
    "\n",
    "plt.savefig('분야별 top5.png', dpi=200)"
   ]
  },
  {
   "cell_type": "code",
   "execution_count": 16,
   "id": "69871ff7",
   "metadata": {
    "scrolled": false
   },
   "outputs": [
    {
     "data": {
      "image/png": "[encoded data removed]",
      "text/plain": [
       "<Figure size 800x600 with 1 Axes>"
      ]
     },
     "metadata": {},
     "output_type": "display_data"
    }
   ],
   "source": [
    "#bar모양 시각화\n",
    "plt.figure(figsize=(8,6))\n",
    "\n",
    "best_genre.plot(kind='bar', rot=0, colormap='Pastel1')\n",
    "plt.title('[최근 10년간 인기 분야]')\n",
    "# plt.xlabel('분야')\n",
    "plt.ylabel('권수')\n",
    "\n",
    "plt.savefig('분야별 top5(2).png', dpi=200)"
   ]
  },
  {
   "cell_type": "code",
   "execution_count": 17,
   "id": "e22bc7df",
   "metadata": {},
   "outputs": [],
   "source": [
    "# 💎💎💎💎💎 6번 💎💎💎💎💎"
   ]
  },
  {
   "cell_type": "code",
   "execution_count": 18,
   "id": "3cfb961e",
   "metadata": {
    "id": "fcb065b5",
    "outputId": "26fa7dd9-c2ee-4916-f739-4ff6b750d180",
    "scrolled": false
   },
   "outputs": [
    {
     "data": {
      "text/html": [
       "<div>\n",
       "<style scoped>\n",
       "    .dataframe tbody tr th:only-of-type {\n",
       "        vertical-align: middle;\n",
       "    }\n",
       "\n",
       "    .dataframe tbody tr th {\n",
       "        vertical-align: top;\n",
       "    }\n",
       "\n",
       "    .dataframe thead th {\n",
       "        text-align: right;\n",
       "    }\n",
       "</style>\n",
       "<table border=\"1\" class=\"dataframe\">\n",
       "  <thead>\n",
       "    <tr style=\"text-align: right;\">\n",
       "      <th></th>\n",
       "      <th></th>\n",
       "      <th></th>\n",
       "      <th></th>\n",
       "      <th></th>\n",
       "      <th></th>\n",
       "      <th></th>\n",
       "      <th>0</th>\n",
       "    </tr>\n",
       "    <tr>\n",
       "      <th>순위</th>\n",
       "      <th>상품명</th>\n",
       "      <th>판매가</th>\n",
       "      <th>작가</th>\n",
       "      <th>출판사</th>\n",
       "      <th>출시일자</th>\n",
       "      <th>분야</th>\n",
       "      <th></th>\n",
       "    </tr>\n",
       "  </thead>\n",
       "  <tbody>\n",
       "    <tr>\n",
       "      <th>8</th>\n",
       "      <th>돌이킬 수 없는 약속</th>\n",
       "      <th>13,500</th>\n",
       "      <th>야쿠마루 가쿠</th>\n",
       "      <th>북플라자</th>\n",
       "      <th>20170202</th>\n",
       "      <th>소설</th>\n",
       "      <td>2</td>\n",
       "    </tr>\n",
       "    <tr>\n",
       "      <th>4</th>\n",
       "      <th>설민석의 조선왕조실록</th>\n",
       "      <th>19,800</th>\n",
       "      <th>설민석</th>\n",
       "      <th>세계사</th>\n",
       "      <th>20160720</th>\n",
       "      <th>역사/문화</th>\n",
       "      <td>2</td>\n",
       "    </tr>\n",
       "  </tbody>\n",
       "</table>\n",
       "</div>"
      ],
      "text/plain": [
       "                                                   0\n",
       "순위 상품명         판매가    작가      출판사  출시일자     분야      \n",
       "8  돌이킬 수 없는 약속 13,500 야쿠마루 가쿠 북플라자 20170202 소설     2\n",
       "4  설민석의 조선왕조실록 19,800 설민석     세계사  20160720 역사/문화  2"
      ]
     },
     "execution_count": 18,
     "metadata": {},
     "output_type": "execute_result"
    }
   ],
   "source": [
    "#######################################  6번  ################################\n",
    "#6. 10년 동안 \"2회 이상 top10\"안에 들었던 적이 있는 작품: 총100개 중 2개\n",
    "book_ten_steady_list = []\n",
    "for idx in range(0, 10):\n",
    "    book_s = book_list[idx][(book.순위 > 0) & (book.순위 <= 10)]\n",
    "    book_ten_steady_list.append(book_s)\n",
    "book_ten_steady = pd.concat(book_ten_steady_list)  \n",
    "book_ten_steady[9:11]\n",
    "\n",
    "# 2회 이상 top10\n",
    "book_top10_twice = (book_ten_steady.value_counts(ascending=False)) >= 2\n",
    "book_ten_steady.value_counts()[book_top10_twice].to_frame()"
   ]
  },
  {
   "cell_type": "markdown",
   "id": "02324a57",
   "metadata": {},
   "source": [
    "<!-- 💎💎💎💎💎 5번 💎💎💎💎💎 -->"
   ]
  },
  {
   "cell_type": "code",
   "execution_count": 19,
   "id": "51d1c874",
   "metadata": {},
   "outputs": [],
   "source": [
    "# 💎💎💎💎💎 5번 💎💎💎💎💎"
   ]
  },
  {
   "cell_type": "code",
   "execution_count": 20,
   "id": "687c5184",
   "metadata": {
    "id": "fcb065b5",
    "outputId": "26fa7dd9-c2ee-4916-f739-4ff6b750d180"
   },
   "outputs": [
    {
     "data": {
      "image/png": "[encoded data removed]",
      "text/plain": [
       "<Figure size 640x480 with 1 Axes>"
      ]
     },
     "metadata": {},
     "output_type": "display_data"
    }
   ],
   "source": [
    "#5. 10년 간 \"top10\"안에 든 작품들의 분야 Top5(분야기준): 소설>시/에세이>인문>자기계발>경제/경영  - 상품명/작가 넣으면 될 듯\n",
    "genre_top10 = book_ten_steady.분야.value_counts(ascending=False)[:5]\n",
    "\n",
    "#시각화 barh\n",
    "genre_top10.plot(kind='barh', rot=0, colormap='Pastel1')\n",
    "plt.title('[Top10작품의 분야 Top5]')\n",
    "plt.xlabel('권수')\n",
    "# plt.ylabel('분야')\n",
    "\n",
    "plt.savefig('Top10작품의 분야 Top5(2).png', dpi=200)"
   ]
  },
  {
   "cell_type": "code",
   "execution_count": 21,
   "id": "fcb065b5",
   "metadata": {
    "id": "fcb065b5",
    "outputId": "26fa7dd9-c2ee-4916-f739-4ff6b750d180",
    "scrolled": false
   },
   "outputs": [
    {
     "data": {
      "image/png": "[encoded data removed]",
      "text/plain": [
       "<Figure size 640x480 with 1 Axes>"
      ]
     },
     "metadata": {},
     "output_type": "display_data"
    }
   ],
   "source": [
    "# 5번 시각화 pie\n",
    "genre_top10.plot(kind='pie', \n",
    "                    title = '[Top10작품의 분야 Top5]',\n",
    "                    autopct='%.f%%',\n",
    "                    colormap='tab20c',\n",
    "                    shadow=True,\n",
    "                    rot=0,\n",
    "                    )\n",
    "plt.legend().remove()\n",
    "plt.gca().axes.yaxis.set_visible(False)\n",
    "\n",
    "plt.savefig('Top10작품의 분야 Top5.png', dpi=200)"
   ]
  },
  {
   "cell_type": "code",
   "execution_count": 22,
   "id": "84ef8205",
   "metadata": {},
   "outputs": [
    {
     "data": {
      "text/html": [
       "<div>\n",
       "<style scoped>\n",
       "    .dataframe tbody tr th:only-of-type {\n",
       "        vertical-align: middle;\n",
       "    }\n",
       "\n",
       "    .dataframe tbody tr th {\n",
       "        vertical-align: top;\n",
       "    }\n",
       "\n",
       "    .dataframe thead th {\n",
       "        text-align: right;\n",
       "    }\n",
       "</style>\n",
       "<table border=\"1\" class=\"dataframe\">\n",
       "  <thead>\n",
       "    <tr style=\"text-align: right;\">\n",
       "      <th></th>\n",
       "      <th>순위</th>\n",
       "      <th>상품명</th>\n",
       "      <th>판매가</th>\n",
       "      <th>작가</th>\n",
       "      <th>출판사</th>\n",
       "      <th>출시일자</th>\n",
       "      <th>분야</th>\n",
       "    </tr>\n",
       "  </thead>\n",
       "  <tbody>\n",
       "    <tr>\n",
       "      <th>29</th>\n",
       "      <td>30</td>\n",
       "      <td>인간 실격</td>\n",
       "      <td>8,100</td>\n",
       "      <td>다자이 오사무</td>\n",
       "      <td>민음사</td>\n",
       "      <td>20120410</td>\n",
       "      <td>소설</td>\n",
       "    </tr>\n",
       "    <tr>\n",
       "      <th>62</th>\n",
       "      <td>63</td>\n",
       "      <td>코스모스</td>\n",
       "      <td>17,910</td>\n",
       "      <td>칼 세이건</td>\n",
       "      <td>사이언스북스</td>\n",
       "      <td>20100120</td>\n",
       "      <td>과학</td>\n",
       "    </tr>\n",
       "    <tr>\n",
       "      <th>72</th>\n",
       "      <td>73</td>\n",
       "      <td>총 균 쇠</td>\n",
       "      <td>25,200</td>\n",
       "      <td>재레드 다이아몬드</td>\n",
       "      <td>문학사상</td>\n",
       "      <td>20051219</td>\n",
       "      <td>역사/문화</td>\n",
       "    </tr>\n",
       "    <tr>\n",
       "      <th>78</th>\n",
       "      <td>79</td>\n",
       "      <td>모순</td>\n",
       "      <td>11,700</td>\n",
       "      <td>양귀자</td>\n",
       "      <td>쓰다</td>\n",
       "      <td>20130401</td>\n",
       "      <td>소설</td>\n",
       "    </tr>\n",
       "    <tr>\n",
       "      <th>82</th>\n",
       "      <td>83</td>\n",
       "      <td>데미안</td>\n",
       "      <td>7,200</td>\n",
       "      <td>헤르만 헤세</td>\n",
       "      <td>민음사</td>\n",
       "      <td>20090120</td>\n",
       "      <td>소설</td>\n",
       "    </tr>\n",
       "    <tr>\n",
       "      <th>109</th>\n",
       "      <td>110</td>\n",
       "      <td>시크릿</td>\n",
       "      <td>15,120</td>\n",
       "      <td>론다 번</td>\n",
       "      <td>살림Biz</td>\n",
       "      <td>20070618</td>\n",
       "      <td>자기계발</td>\n",
       "    </tr>\n",
       "    <tr>\n",
       "      <th>124</th>\n",
       "      <td>125</td>\n",
       "      <td>클루지</td>\n",
       "      <td>12,420</td>\n",
       "      <td>개리 마커스</td>\n",
       "      <td>갤리온</td>\n",
       "      <td>20081124</td>\n",
       "      <td>인문</td>\n",
       "    </tr>\n",
       "    <tr>\n",
       "      <th>131</th>\n",
       "      <td>132</td>\n",
       "      <td>나미야 잡화점의 기적</td>\n",
       "      <td>13,320</td>\n",
       "      <td>히가시노 게이고</td>\n",
       "      <td>현대문학</td>\n",
       "      <td>20121219</td>\n",
       "      <td>소설</td>\n",
       "    </tr>\n",
       "  </tbody>\n",
       "</table>\n",
       "</div>"
      ],
      "text/plain": [
       "      순위          상품명     판매가         작가     출판사      출시일자     분야\n",
       "29    30        인간 실격   8,100    다자이 오사무     민음사  20120410     소설\n",
       "62    63         코스모스  17,910      칼 세이건  사이언스북스  20100120     과학\n",
       "72    73        총 균 쇠  25,200  재레드 다이아몬드    문학사상  20051219  역사/문화\n",
       "78    79           모순  11,700        양귀자      쓰다  20130401     소설\n",
       "82    83          데미안   7,200     헤르만 헤세     민음사  20090120     소설\n",
       "109  110          시크릿  15,120       론다 번   살림Biz  20070618   자기계발\n",
       "124  125          클루지  12,420     개리 마커스     갤리온  20081124     인문\n",
       "131  132  나미야 잡화점의 기적  13,320   히가시노 게이고    현대문학  20121219     소설"
      ]
     },
     "execution_count": 22,
     "metadata": {},
     "output_type": "execute_result"
    }
   ],
   "source": [
    "#7. 출시일자가 10년 이상 경과했고 2022년에도 베스트셀러/작가: 8권(중복작가/작품 없음)  -- (보류)\n",
    "book_steady_2022 = book_list[0][book_list[0].출시일자 < 20130601]\n",
    "book_steady_2022"
   ]
  },
  {
   "cell_type": "code",
   "execution_count": 23,
   "id": "745c032f",
   "metadata": {},
   "outputs": [
    {
     "data": {
      "text/plain": [
       "소설       4\n",
       "과학       1\n",
       "역사/문화    1\n",
       "자기계발     1\n",
       "인문       1\n",
       "Name: 분야, dtype: int64"
      ]
     },
     "execution_count": 23,
     "metadata": {},
     "output_type": "execute_result"
    }
   ],
   "source": [
    "#8. 출시일자가 10년 이상 경과했고 2022년에도 베스트셀러인 작품들의 분야 순위  -- (보류)\n",
    "book_steady_2022_genre = book_steady_2022.분야.value_counts()\n",
    "book_steady_2022_genre"
   ]
  },
  {
   "cell_type": "markdown",
   "id": "b7f1cf3a",
   "metadata": {},
   "source": [
    "---"
   ]
  },
  {
   "cell_type": "markdown",
   "id": "0bb27534",
   "metadata": {},
   "source": [
    "---"
   ]
  },
  {
   "cell_type": "code",
   "execution_count": 23,
   "id": "0c093050",
   "metadata": {},
   "outputs": [],
   "source": [
    "# # 연도별 1위 분야\n",
    "# book_genre_list = []\n",
    "# for idx in range(0, 10):\n",
    "#     books = book_list[idx].groupby('분야').size().sort_values(ascending=False).index[0]\n",
    "#     book_genre_list.append(books)\n",
    "# book_genre_list"
   ]
  },
  {
   "cell_type": "code",
   "execution_count": 24,
   "id": "2a3f771c",
   "metadata": {},
   "outputs": [],
   "source": [
    "# book_genre_list = []\n",
    "# for idx in range(0, 10):\n",
    "#     books = book_list[idx].groupby('분야').size().sort_values(ascending=False)\n",
    "#     book_genre_list.append(books)\n",
    "# book_genre_list[0].index[0]"
   ]
  }
 ],
 "metadata": {
  "colab": {
   "provenance": []
  },
  "kernelspec": {
   "display_name": "ex_kernel",
   "language": "python",
   "name": "ex"
  },
  "language_info": {
   "codemirror_mode": {
    "name": "ipython",
    "version": 3
   },
   "file_extension": ".py",
   "mimetype": "text/x-python",
   "name": "python",
   "nbconvert_exporter": "python",
   "pygments_lexer": "ipython3",
   "version": "3.10.9"
  },
  "toc": {
   "base_numbering": 1,
   "nav_menu": {
    "height": "262px",
    "width": "206px"
   },
   "number_sections": true,
   "sideBar": true,
   "skip_h1_title": false,
   "title_cell": "Table of Contents",
   "title_sidebar": "Contents",
   "toc_cell": false,
   "toc_position": {
    "height": "calc(100% - 180px)",
    "left": "10px",
    "top": "150px",
    "width": "384px"
   },
   "toc_section_display": true,
   "toc_window_display": false
  },
  "varInspector": {
   "cols": {
    "lenName": 16,
    "lenType": 16,
    "lenVar": 40
   },
   "kernels_config": {
    "python": {
     "delete_cmd_postfix": "",
     "delete_cmd_prefix": "del ",
     "library": "var_list.py",
     "varRefreshCmd": "print(var_dic_list())"
    },
    "r": {
     "delete_cmd_postfix": ") ",
     "delete_cmd_prefix": "rm(",
     "library": "var_list.r",
     "varRefreshCmd": "cat(var_dic_list()) "
    }
   },
   "types_to_exclude": [
    "module",
    "function",
    "builtin_function_or_method",
    "instance",
    "_Feature"
   ],
   "window_display": false
  }
 },
 "nbformat": 4,
 "nbformat_minor": 5
}
